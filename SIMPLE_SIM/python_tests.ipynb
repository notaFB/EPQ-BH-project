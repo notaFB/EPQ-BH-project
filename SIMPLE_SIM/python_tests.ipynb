{
 "cells": [
  {
   "cell_type": "code",
   "execution_count": null,
   "metadata": {},
   "outputs": [],
   "source": [
    "#load output.txt as list of strings\n",
    "with open('output.txt') as f:\n",
    "    lines = f.readlines()\n",
    "#remove newline characters\n",
    "lines = [line.strip() for line in lines]\n",
    "\n",
    "#separate by \"___\"\n",
    "\n",
    "\n",
    "fieldStrings = [[]]\n",
    "for line in lines:\n",
    "    if \"_\" in line:\n",
    "        fieldStrings.append([])\n",
    "    else:\n",
    "        fieldStrings[-1].append(line)\n",
    "\n",
    "#print number of field Strings\n",
    "print(len(fieldStrings))\n",
    "\n",
    "#now parse into numbers (each line is csv)\n",
    "fieldData = []\n",
    "for fieldString in fieldStrings:\n",
    "    timeStepData = []\n",
    "    for line in fieldString:\n",
    "        timeStepData.append([float(x) for x in line.split(\",\")])\n",
    "    fieldData.append(timeStepData)\n",
    "\n",
    "#print number of floats in the first row of the first field\n",
    "print(len(fieldData[0][0]))"
   ]
  },
  {
   "cell_type": "code",
   "execution_count": null,
   "metadata": {},
   "outputs": [],
   "source": [
    "#plot the first field as a 2D image\n",
    "fieldData1 = np.array(fieldData[0])\n",
    "plt.imshow(fieldData1)\n",
    "plt.show()"
   ]
  },
  {
   "cell_type": "code",
   "execution_count": null,
   "metadata": {},
   "outputs": [],
   "source": [
    "import numpy as np\n",
    "import matplotlib.pyplot as plt\n",
    "\n"
   ]
  }
 ],
 "metadata": {
  "kernelspec": {
   "display_name": "Python 3",
   "language": "python",
   "name": "python3"
  },
  "language_info": {
   "codemirror_mode": {
    "name": "ipython",
    "version": 3
   },
   "file_extension": ".py",
   "mimetype": "text/x-python",
   "name": "python",
   "nbconvert_exporter": "python",
   "pygments_lexer": "ipython3",
   "version": "3.10.12"
  }
 },
 "nbformat": 4,
 "nbformat_minor": 2
}
